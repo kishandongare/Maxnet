{
 "cells": [
  {
   "cell_type": "code",
   "execution_count": null,
   "metadata": {},
   "outputs": [],
   "source": [
    "#name  = kishan dongare\n",
    "#topic = Maxnet"
   ]
  },
  {
   "cell_type": "code",
   "execution_count": 19,
   "metadata": {},
   "outputs": [
    {
     "name": "stdout",
     "output_type": "stream",
     "text": [
      "Enter no. of neurons:3\n",
      "\n",
      "Enter initial values of activations:\n",
      ":0.1\n",
      ":0.3\n",
      ":0.9\n",
      "\n",
      "Enter inhibitory weight : 0.25\n",
      "\n",
      "Initial values of activations: [0.1, 0.3, 0.9]\n",
      "Iteration 1 - activations = [0, 0.049999999999999975, 0.7999999999999999]\n",
      "Iteration 2 - activations = [0, 0, 0.7874999999999999]\n",
      "Winning neuron :  3\n"
     ]
    }
   ],
   "source": [
    "def activation_fn(x):\n",
    "\tif x>0:\n",
    "\t\treturn x\n",
    "\treturn 0\n",
    "\n",
    "n=int(input(\"Enter no. of neurons:\"))\n",
    "activations=[0.0]*n\n",
    "print(\"\\nEnter initial values of activations:\")\n",
    "for i in range(n):\n",
    "    activations[i]=float(input(\":\"))\n",
    "\n",
    "k=float(input(\"\\nEnter inhibitory weight : \"))\n",
    " \n",
    "print (\"\\nInitial values of activations:\", activations )\n",
    "\n",
    "a_old = activations.copy()\n",
    "a_new = []\n",
    "count = 0\n",
    "while True: \n",
    "\ttemp = sum(a_old)\n",
    "\tfor i in range(0, n): \n",
    "\t\tvalue = a_old[i] - k * temp + k * a_old[i]\n",
    "\t\ta_new.append(activation_fn(value))\n",
    "\ta_old = a_new.copy() \n",
    "\tcount += 1\n",
    "\tif sum(a_new) == max(a_new): \n",
    "\t\tbreak\n",
    "\tprint('Iteration {} - activations = {}'.format(count, a_old))\n",
    "\ta_new = []\n",
    "\n",
    "print('Iteration {} - activations = {}'.format(count, a_new))\n",
    "\n",
    "\n",
    "i=0\n",
    "while a_new[i]==0:\n",
    "    i=i+1\n",
    "print (\"Winning neuron : \",i+1)"
   ]
  },
  {
   "cell_type": "code",
   "execution_count": null,
   "metadata": {},
   "outputs": [],
   "source": []
  }
 ],
 "metadata": {
  "kernelspec": {
   "display_name": "Python 3",
   "language": "python",
   "name": "python3"
  },
  "language_info": {
   "codemirror_mode": {
    "name": "ipython",
    "version": 3
   },
   "file_extension": ".py",
   "mimetype": "text/x-python",
   "name": "python",
   "nbconvert_exporter": "python",
   "pygments_lexer": "ipython3",
   "version": "3.7.0"
  }
 },
 "nbformat": 4,
 "nbformat_minor": 4
}
